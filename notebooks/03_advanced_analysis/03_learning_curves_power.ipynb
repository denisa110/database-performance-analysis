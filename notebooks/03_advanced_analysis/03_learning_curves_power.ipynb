{
 "cells": [
  {
   "cell_type": "code",
   "execution_count": null,
   "id": "68573ed6",
   "metadata": {},
   "outputs": [
    {
     "name": "stdout",
     "output_type": "stream",
     "text": [
      "Using Cohen's d from summary: 0.031\n"
     ]
    }
   ],
   "source": [
    "# %% [markdown]\n",
    "# # 04 — Learning Curves and Power Analysis\n",
    "# \n",
    "# *Obiectiv:* se va arăta cum evoluează **puterea statistică** și **lățimea intervalului\n",
    "# de încredere (CI)** pe măsură ce crește dimensiunea eșantionului.\n",
    "# \n",
    "# Outputs:\n",
    "# * `results/figures/power/power_curve.png` – putere vs. n (pentru efectul Cohen’s d observat)\n",
    "# * `results/figures/power/ci_learning_curve.png` – lățimea CI bootstrap vs. n\n",
    "# * `results/tables/learning_curve_ci.csv` – tabel numeric (n, CI-width)\n",
    "# \n",
    "# > Necesită `statistical_summary.csv` (generat de notebook‑ul 02) sau recalculează intern coeficientul d dacă fișierul lipsește.\n",
    "# \n",
    "# ---\n",
    "# %%\n",
    "# 1️ Imports & path setup\n",
    "from pathlib import Path\n",
    "import numpy as np\n",
    "import pandas as pd\n",
    "import matplotlib.pyplot as plt\n",
    "from scipy import stats\n",
    "from statsmodels.stats.power import TTestPower\n",
    "\n",
    "BASE_DIR = Path(\"D:/Disertatie/1.database_performance_analysis\").resolve()\n",
    "FIG_POWER_DIR = BASE_DIR / \"results\" / \"figures\" / \"power\"\n",
    "TABLES_DIR    = BASE_DIR / \"results\" / \"tables\"\n",
    "for p in [FIG_POWER_DIR, TABLES_DIR]:\n",
    "    p.mkdir(parents=True, exist_ok=True)\n",
    "\n",
    "# %%\n",
    "# 2️ Load effect size (Cohen's d) from statistical_summary.csv or compute fallback\n",
    "summary_file = TABLES_DIR / \"statistical_summary.csv\"\n",
    "if summary_file.exists():\n",
    "    summary_df = pd.read_csv(summary_file)\n",
    "    d_obs = summary_df.loc[summary_df[\"group\"]==\"index\", \"cohen_d\"].iloc[0]\n",
    "    print(f\"Using Cohen's d from summary: {d_obs:.3f}\")\n",
    "else:\n",
    "    # Fallback – compute from raw diff of index dataset\n",
    "    RAW_DIR = BASE_DIR / \"data\" / \"raw\"\n",
    "    idx = pd.read_csv(RAW_DIR/\"queries_with_index.csv\")\n",
    "    no  = pd.read_csv(RAW_DIR/\"queries_no_index.csv\")\n",
    "    diff = no[\"execution_time_ms\"] - idx[\"execution_time_ms\"]\n",
    "    d_obs = diff.mean()/diff.std(ddof=1)\n",
    "    print(f\"Computed Cohen's d ad‑hoc: {d_obs:.3f}\")\n",
    "\n",
    "# Ensure effect size positive (we care about magnitude)\n",
    "d_obs = abs(d_obs)\n"
   ]
  },
  {
   "cell_type": "code",
   "execution_count": null,
   "id": "dd59d9d8",
   "metadata": {},
   "outputs": [],
   "source": [
    "# %%\n",
    "# 3️ Power curve for paired t‑test\n",
    "ns = np.arange(10, 4001, 50)\n",
    "power_calc = TTestPower()\n",
    "powers = power_calc.power(effect_size=d_obs, nobs=ns, alpha=0.05)\n",
    "\n",
    "plt.figure(figsize=(5,3.5))\n",
    "plt.plot(ns, powers, \"o-\")\n",
    "plt.axhline(0.8, color='red', ls='--', label='0.8 power')\n",
    "plt.title(f\"Power Curve (d={d_obs:.2f})\")\n",
    "plt.xlabel(\"Sample size (paired)\")\n",
    "plt.ylabel(\"Power (1-β)\")\n",
    "plt.legend()\n",
    "plt.tight_layout()\n",
    "plt.savefig(FIG_POWER_DIR/\"power_curve.png\")\n",
    "plt.close()"
   ]
  },
  {
   "cell_type": "code",
   "execution_count": null,
   "id": "e9316241",
   "metadata": {},
   "outputs": [
    {
     "name": "stdout",
     "output_type": "stream",
     "text": [
      "Power & CI learning curves generated → D:\\Disertatie\\1.database_performance_analysis\\results\\figures\\power\n"
     ]
    }
   ],
   "source": [
    "# %%\n",
    "# 4️ CI learning curve (bootstrap) pe dataset index\n",
    "RAW_DIR = BASE_DIR / \"data\" / \"raw\"\n",
    "idx = pd.read_csv(RAW_DIR/\"queries_with_index.csv\")\n",
    "no  = pd.read_csv(RAW_DIR/\"queries_no_index.csv\")\n",
    "idx[\"query_id\"] = idx[\"query_id\"].astype(str)\n",
    "no [\"query_id\"] = no [\"query_id\"].astype(str)\n",
    "merged = idx.merge(no, on=\"query_id\", suffixes=(\"_idx\",\"_no\"))\n",
    "diff = merged[\"execution_time_ms_no\"] - merged[\"execution_time_ms_idx\"]\n",
    "\n",
    "rng = np.random.default_rng(0)\n",
    "curve = []\n",
    "for n in range(20, len(diff)+1, 50):\n",
    "    boots = rng.choice(diff.values, size=(3000, n), replace=True).mean(axis=1)\n",
    "    ci_low, ci_high = np.percentile(boots, [2.5, 97.5])\n",
    "    curve.append({\"n\":n, \"ci_width\":ci_high-ci_low})\n",
    "curve_df = pd.DataFrame(curve)\n",
    "curve_df.to_csv(TABLES_DIR/\"learning_curve_ci.csv\", index=False)\n",
    "\n",
    "plt.figure(figsize=(5,3.5))\n",
    "plt.plot(curve_df[\"n\"], curve_df[\"ci_width\"], \"o-\")\n",
    "plt.title(\"CI Width vs Sample Size (Index diff)\")\n",
    "plt.xlabel(\"Sample size\")\n",
    "plt.ylabel(\"CI width (ms)\")\n",
    "plt.tight_layout()\n",
    "plt.savefig(FIG_POWER_DIR/\"ci_learning_curve.png\")\n",
    "plt.close()\n",
    "\n",
    "print(\"Power & CI learning curves generated →\", FIG_POWER_DIR)\n"
   ]
  }
 ],
 "metadata": {
  "kernelspec": {
   "display_name": "venv",
   "language": "python",
   "name": "python3"
  },
  "language_info": {
   "codemirror_mode": {
    "name": "ipython",
    "version": 3
   },
   "file_extension": ".py",
   "mimetype": "text/x-python",
   "name": "python",
   "nbconvert_exporter": "python",
   "pygments_lexer": "ipython3",
   "version": "3.10.11"
  }
 },
 "nbformat": 4,
 "nbformat_minor": 5
}
